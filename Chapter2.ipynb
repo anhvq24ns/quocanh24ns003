{
 "cells": [
  {
   "cell_type": "code",
   "execution_count": 1,
   "id": "35935ade-a37e-4128-8499-a9f262699fb4",
   "metadata": {},
   "outputs": [
    {
     "data": {
      "text/plain": [
       "'\\nBài 1. Viết chương trình nhập vào một chuỗi\\nXuất ra màn hình chuỗi ký tự hoa\\nXuất ra màn hình chuỗi ký tự có ký tự đầu là ký tự hoa\\nXuất ra màn hình chuỗi ký tự thường\\n'"
      ]
     },
     "execution_count": 1,
     "metadata": {},
     "output_type": "execute_result"
    }
   ],
   "source": [
    "\"\"\"\n",
    "Bài 1. Viết chương trình nhập vào một chuỗi\n",
    "Xuất ra màn hình chuỗi ký tự hoa\n",
    "Xuất ra màn hình chuỗi ký tự có ký tự đầu là ký tự hoa\n",
    "Xuất ra màn hình chuỗi ký tự thường\n",
    "\"\"\"\n"
   ]
  },
  {
   "cell_type": "code",
   "execution_count": 1,
   "id": "9d2f01df-e2a9-4b2c-8cc6-fc4b9af2cdce",
   "metadata": {},
   "outputs": [
    {
     "name": "stdin",
     "output_type": "stream",
     "text": [
      "Enter your string: hello\n"
     ]
    },
    {
     "name": "stdout",
     "output_type": "stream",
     "text": [
      "A Upper String is: HELLO\n",
      "A Lower String is : hello\n",
      "A Title String is : Hello\n"
     ]
    }
   ],
   "source": [
    "st = input(\"Enter your string:\")\n",
    "st_upper = st.upper()\n",
    "st_lower = st.lower()\n",
    "st_title = st.title()\n",
    "\n",
    "print(\"A Upper String is: \" + st_upper)\n",
    "print(\"A Lower String is : \" + st_lower)\n",
    "print(\"A Title String is : \" + st_title)"
   ]
  },
  {
   "cell_type": "code",
   "execution_count": 9,
   "id": "98e97b62-9325-4274-80fe-98c384875cbc",
   "metadata": {},
   "outputs": [
    {
     "data": {
      "text/plain": [
       "'\\nBài 2. Cho chuỗi biểu diễn địa chỉ email:   \" minhnhutvh@gmail.com\" \\nRút trích và hiển thị chuỗi \"gmail.com\" (Đây chính là  tên Host)\\n'"
      ]
     },
     "execution_count": 9,
     "metadata": {},
     "output_type": "execute_result"
    }
   ],
   "source": [
    "'''\n",
    "Bài 2. Cho chuỗi biểu diễn địa chỉ email:   \" minhnhutvh@gmail.com\" \n",
    "Rút trích và hiển thị chuỗi \"gmail.com\" (Đây chính là  tên Host)\n",
    "'''"
   ]
  },
  {
   "cell_type": "code",
   "execution_count": 10,
   "id": "2208cd36-d314-4927-9fb5-55bc689b501e",
   "metadata": {},
   "outputs": [
    {
     "name": "stdout",
     "output_type": "stream",
     "text": [
      "gmail.com\n"
     ]
    }
   ],
   "source": [
    "data = \"minhnhutvh@gmail.com\"\n",
    "position = data.find(\"@\")               \n",
    "host = data[position +1 :]\n",
    "print(host)\n"
   ]
  },
  {
   "cell_type": "code",
   "execution_count": 16,
   "id": "2411f1dd-bada-4dc7-90be-d5b14be8685d",
   "metadata": {},
   "outputs": [
    {
     "data": {
      "text/plain": [
       "'\\nBài 3. Cho chuỗi biểu diễn:  \\n        ‘minhnhutvh@gmai.com Sat Jan 5 09:14:16’\\nRút trích và hiển thị chuỗi “gmail.com”\\n'"
      ]
     },
     "execution_count": 16,
     "metadata": {},
     "output_type": "execute_result"
    }
   ],
   "source": [
    "'''\n",
    "Bài 3. Cho chuỗi biểu diễn:  \n",
    "        ‘minhnhutvh@gmai.com Sat Jan 5 09:14:16’\n",
    "Rút trích và hiển thị chuỗi “gmail.com”\n",
    "'''"
   ]
  },
  {
   "cell_type": "code",
   "execution_count": 17,
   "id": "c60f43e5-e0ba-4f2f-be62-a3df3ed218a8",
   "metadata": {},
   "outputs": [
    {
     "name": "stdout",
     "output_type": "stream",
     "text": [
      "gmail.com\n"
     ]
    }
   ],
   "source": [
    "data = \"minhnhutvh@gmail.com Sat Jan 5 09:14:16\"\n",
    "Start_position = data.find(\"@\")                #  10\n",
    "End_position = data.find(\" \", Start_position)  #  26\n",
    "host = data[Start_position +1 : End_position]\n",
    "print(host)\n"
   ]
  },
  {
   "cell_type": "code",
   "execution_count": 22,
   "id": "4a1b2728-50bc-488b-9e8d-db3b27daf173",
   "metadata": {},
   "outputs": [
    {
     "data": {
      "text/plain": [
       "'\\nBài 4. Viết một chương trình thay thế một từ trong chuỗi. Yêu cầu: \\nNhập vào một chuỗi \\nNhập vào một từ cần thay thế và một từ thay thế. \\nSau đó, hiển thị kết quả ra màn hình.\\n'"
      ]
     },
     "execution_count": 22,
     "metadata": {},
     "output_type": "execute_result"
    }
   ],
   "source": [
    "'''\n",
    "Bài 4. Viết một chương trình thay thế một từ trong chuỗi. Yêu cầu: \n",
    "Nhập vào một chuỗi \n",
    "Nhập vào một từ cần thay thế và một từ thay thế. \n",
    "Sau đó, hiển thị kết quả ra màn hình.\n",
    "'''"
   ]
  },
  {
   "cell_type": "code",
   "execution_count": 2,
   "id": "d7e501cf-58a4-4d4d-bc28-6c8d4b93ce7a",
   "metadata": {},
   "outputs": [
    {
     "name": "stdin",
     "output_type": "stream",
     "text": [
      "Enter your string:  dgsjbfjsgd\n",
      "Enter the word that needs to replace:  hsdgbdfs\n",
      "Enter the word after being replaced:  ýudgbfhsd\n"
     ]
    },
    {
     "name": "stdout",
     "output_type": "stream",
     "text": [
      "dgsjbfjsgd\n"
     ]
    }
   ],
   "source": [
    "st1 = input(\"Enter your string: \")\n",
    "st2 = input(\"Enter the word that needs to replace: \")\n",
    "st3 = input(\"Enter the word after being replaced: \")\n",
    "\n",
    "st1 = st1.replace(st2,st3)\n",
    "print(st1)\n"
   ]
  },
  {
   "cell_type": "code",
   "execution_count": 2,
   "id": "3aa6bf5f-08fc-4366-9f43-c1b230f6defa",
   "metadata": {},
   "outputs": [
    {
     "data": {
      "text/plain": [
       "'\\nBài 5: Viết một chương trình nhập vào 1 chuỗi. Sau đó, xuất ra màn hình: \\n5 ký tự cuối cùng; 5 ký tự đầu tiên. \\n4 chuỗi trên một dòng cách 1 khoảng trắng.\\n4 chuỗi trên 4 dòng.\\n'"
      ]
     },
     "execution_count": 2,
     "metadata": {},
     "output_type": "execute_result"
    }
   ],
   "source": [
    "'''\n",
    "Bài 5: Viết một chương trình nhập vào 1 chuỗi. Sau đó, xuất ra màn hình: \n",
    "5 ký tự cuối cùng; 5 ký tự đầu tiên. \n",
    "4 chuỗi trên một dòng cách 1 khoảng trắng.\n",
    "4 chuỗi trên 4 dòng.\n",
    "'''"
   ]
  },
  {
   "cell_type": "code",
   "execution_count": 4,
   "id": "e7e0834c-4c64-4e9f-a607-c2397badea2f",
   "metadata": {},
   "outputs": [
    {
     "name": "stdin",
     "output_type": "stream",
     "text": [
      "Enter your string:  voquocanh\n"
     ]
    },
    {
     "name": "stdout",
     "output_type": "stream",
     "text": [
      "First five characters are: voquo\n",
      "Last five characters are: ocanh\n",
      "Four strings of one line are: voquocanh voquocanh voquocanh voquocanh \n",
      "Four strings of four line are: \n",
      "voquocanh \n",
      "voquocanh \n",
      "voquocanh \n",
      "voquocanh \n",
      "\n"
     ]
    }
   ],
   "source": [
    "st = input(\"Enter your string: \")\n",
    "First_five_characters = st[:5]\n",
    "Last_five_characters = st[len(st)-5:]\n",
    "Str4_1_line = 4 * (st + \" \")\n",
    "Str4_4_line = 4 * (st + \" \\n\")\n",
    "\n",
    "print(\"First five characters are: \" + First_five_characters)\n",
    "print(\"Last five characters are: \" + Last_five_characters)\n",
    "print(\"Four strings of one line are: \" + Str4_1_line)\n",
    "print(\"Four strings of four line are: \\n\" + Str4_4_line)\n"
   ]
  },
  {
   "cell_type": "code",
   "execution_count": 31,
   "id": "0e6823a0-6cf4-44aa-90d0-1b93c3577681",
   "metadata": {},
   "outputs": [
    {
     "data": {
      "text/plain": [
       "'Bài 6: Viết chương trình tính thể tích hình trụ V = πr2h với r là bán kính của mặt đáy, \\nh là chiều cao của hình trụ, và π là hằng số pi. Với r và h nhập vào từ bàn phím.\\n'"
      ]
     },
     "execution_count": 31,
     "metadata": {},
     "output_type": "execute_result"
    }
   ],
   "source": [
    "'''Bài 6: Viết chương trình tính thể tích hình trụ V = πr2h với r là bán kính của mặt đáy, \n",
    "h là chiều cao của hình trụ, và π là hằng số pi. Với r và h nhập vào từ bàn phím.\n",
    "'''"
   ]
  },
  {
   "cell_type": "code",
   "execution_count": 4,
   "id": "fa224e60-e3aa-4a49-ad21-097ff7131f7a",
   "metadata": {},
   "outputs": [
    {
     "name": "stdin",
     "output_type": "stream",
     "text": [
      "Nhap ban kinh:  3\n",
      "Nhap chieu cao:  4\n"
     ]
    },
    {
     "name": "stdout",
     "output_type": "stream",
     "text": [
      "The tich hinh tru:  113.09733552923255\n"
     ]
    }
   ],
   "source": [
    "from math import *\n",
    "r = float (input(\"Nhap ban kinh: \"))\n",
    "h = float (input(\"Nhap chieu cao: \"))\n",
    "V = pi*r**2*h\n",
    "print(\"The tich hinh tru: \" , V)"
   ]
  },
  {
   "cell_type": "code",
   "execution_count": 9,
   "id": "f238dd21-6e5a-4c57-b522-93a63406471c",
   "metadata": {},
   "outputs": [
    {
     "data": {
      "text/plain": [
       "'Bài 7: Viết chương trình tính diện tích tam giác theo công thức S=1/2absinC = 1/2acsinB = 1/2bcsinA. Yêu cầu nhập vào 3 cạnh và các góc A,B và C (radian)\\n'"
      ]
     },
     "execution_count": 9,
     "metadata": {},
     "output_type": "execute_result"
    }
   ],
   "source": [
    "'''Bài 7: Viết chương trình tính diện tích tam giác theo công thức S=1/2absinC = 1/2acsinB = 1/2bcsinA. Yêu cầu nhập vào 3 cạnh và các góc A,B và C (radian)\n",
    "'''"
   ]
  },
  {
   "cell_type": "code",
   "execution_count": 5,
   "id": "4ba3edec-7b29-4026-ae59-eb7246838698",
   "metadata": {},
   "outputs": [
    {
     "name": "stdin",
     "output_type": "stream",
     "text": [
      "Nhap canh a cua tam giac:  3\n",
      "Nhap canh b cua tam giac:  5\n",
      "Nhap canh c cua tam giac:  7\n",
      "Nhap goc A cua tam giac theo rad:  0.2\n",
      "Nhap goc B cua tam giac theo rad:  0.6\n",
      "Nhap goc C cua tam giac theo rad:  0.1\n"
     ]
    },
    {
     "name": "stdout",
     "output_type": "stream",
     "text": [
      "Dien tich tam giac tinh theo goc A:  3.4767132889135715\n",
      "Dien tich tam giac tinh theo goc B:  5.928745970647872\n",
      "Dien tich tam giac tinh theo goc C:  0.7487506248512111\n"
     ]
    }
   ],
   "source": [
    "from math import*\n",
    "a = float (input(\"Nhap canh a cua tam giac: \"))\n",
    "b = float (input(\"Nhap canh b cua tam giac: \"))\n",
    "c = float (input(\"Nhap canh c cua tam giac: \")) \n",
    "A = float (input(\"Nhap goc A cua tam giac theo rad: \")) \n",
    "B = float (input(\"Nhap goc B cua tam giac theo rad: \")) \n",
    "C = float (input(\"Nhap goc C cua tam giac theo rad: \")) \n",
    "#S =1/2*a*b*sin(C) =1/2*a*c*sin(B) =1/2* b*c* sin(A) \n",
    "# 0< A, B, C<pi\n",
    "S1 = 1/2*a*b*sin(C) \n",
    "S2 = 1/2*a*c*sin(B)\n",
    "S3 = 1/2* b*c* sin(A)\n",
    "print(\"Dien tich tam giac tinh theo goc A: \", S3)\n",
    "print(\"Dien tich tam giac tinh theo goc B: \", S2)\n",
    "print(\"Dien tich tam giac tinh theo goc C: \", S1)"
   ]
  },
  {
   "cell_type": "code",
   "execution_count": 20,
   "id": "f26d511b-90ae-43d4-a25e-f7047b147280",
   "metadata": {},
   "outputs": [
    {
     "data": {
      "text/plain": [
       "'Bài 8: Viết chương trình tính diện tích tam giác đều theo định lý Heron. Yêu cầu nhập vào cạnh tam giác đều.\\n'"
      ]
     },
     "execution_count": 20,
     "metadata": {},
     "output_type": "execute_result"
    }
   ],
   "source": [
    "'''Bài 8: Viết chương trình tính diện tích tam giác đều theo định lý Heron. Yêu cầu nhập vào cạnh tam giác đều.\n",
    "'''"
   ]
  },
  {
   "cell_type": "code",
   "execution_count": 6,
   "id": "f33b9f38-9e92-42a4-9bc3-a46a978e7172",
   "metadata": {},
   "outputs": [
    {
     "name": "stdin",
     "output_type": "stream",
     "text": [
      "Nhap canh cua tam giac deu:  10\n"
     ]
    },
    {
     "name": "stdout",
     "output_type": "stream",
     "text": [
      "Dien tich tam giac deu:  43.30127018922193\n"
     ]
    }
   ],
   "source": [
    "from math import *\n",
    "a = float(input(\"Nhap canh cua tam giac deu: \"))\n",
    "S = a**2 *sqrt(3)/4\n",
    "print(\"Dien tich tam giac deu: \",S)"
   ]
  },
  {
   "cell_type": "code",
   "execution_count": 24,
   "id": "52829236-58c2-49f0-8b87-503a259cc534",
   "metadata": {},
   "outputs": [
    {
     "data": {
      "text/plain": [
       "'Bài 9: Chạy chương trình Bài 7, nhập giá trị cho trường hợp tam giác đều (lưu ý: giá trị cạnh tam giác = giá trị cạnh tam giác Bài 8). Đánh giá kết quả khi chạy chương trình Bài 7 và Bài 8\\n'"
      ]
     },
     "execution_count": 24,
     "metadata": {},
     "output_type": "execute_result"
    }
   ],
   "source": [
    "'''Bài 9: Chạy chương trình Bài 7, nhập giá trị cho trường hợp tam giác đều (lưu ý: giá trị cạnh tam giác = giá trị cạnh tam giác Bài 8). Đánh giá kết quả khi chạy chương trình Bài 7 và Bài 8\n",
    "'''"
   ]
  },
  {
   "cell_type": "code",
   "execution_count": 8,
   "id": "ca27888a-df08-4e4b-a7c3-5545d3940642",
   "metadata": {},
   "outputs": [
    {
     "name": "stdin",
     "output_type": "stream",
     "text": [
      "Nhập cạnh tam giác đều:  6\n"
     ]
    },
    {
     "name": "stdout",
     "output_type": "stream",
     "text": [
      "Diện tích tam giác (Bài 7 ): 15.588457268119894\n",
      "Diện tích tam giác (Bài 8 ): 15.588457268119894\n",
      " Kết quả Bài 7 và Bài 8 giống nhau.\n"
     ]
    }
   ],
   "source": [
    "import math\n",
    "\n",
    "a = float(input(\"Nhập cạnh tam giác đều: \"))\n",
    "b = c = a\n",
    "C = math.pi / 3  \n",
    "S_bai7 = 0.5 * a * b * math.sin(C)\n",
    "S_bai8 = (a**2 * math.sqrt(3)) / 4\n",
    "\n",
    "print(\"Diện tích tam giác (Bài 7 ):\", S_bai7)\n",
    "print(\"Diện tích tam giác (Bài 8 ):\", S_bai8)\n",
    "\n",
    "if abs(S_bai7 - S_bai8) < 1e-6:\n",
    "    print(\" Kết quả Bài 7 và Bài 8 giống nhau.\")\n",
    "else:\n",
    "    print(\" Kết quả Bài 7 và Bài 8 khác nhau.\")"
   ]
  },
  {
   "cell_type": "code",
   "execution_count": 28,
   "id": "82010f8d-1ffa-4f6a-b650-e6c3ae5ea67d",
   "metadata": {},
   "outputs": [
    {
     "data": {
      "text/plain": [
       "'Bài 10: Viết chương trình yêu cầu người dùng nhập chiều rộng và chiều dài của một căn phòng. Chiều dài và chiều rộng sẽ hiển thị kiểu số dấu phẩy động. Hiển thị diện tích căn phòng. \\n'"
      ]
     },
     "execution_count": 28,
     "metadata": {},
     "output_type": "execute_result"
    }
   ],
   "source": [
    "'''Bài 10: Viết chương trình yêu cầu người dùng nhập chiều rộng và chiều dài của một căn phòng. Chiều dài và chiều rộng sẽ hiển thị kiểu số dấu phẩy động. Hiển thị diện tích căn phòng. \n",
    "'''"
   ]
  },
  {
   "cell_type": "code",
   "execution_count": 11,
   "id": "43dbe42c-819f-4f55-bdac-140ca9124af4",
   "metadata": {},
   "outputs": [
    {
     "name": "stdin",
     "output_type": "stream",
     "text": [
      "Nhap chieu dai can phong: 4\n",
      "Nhap chieu rong can phong: 5\n"
     ]
    },
    {
     "name": "stdout",
     "output_type": "stream",
     "text": [
      "Chieu dai can phong: 4.0\n",
      "Chieu rong can phong: 5.0\n",
      "Dien tich cua can phong: 20.0 m^2\n"
     ]
    }
   ],
   "source": [
    "from math import *\n",
    "a = float(input(\"Nhap chieu dai can phong:\"))\n",
    "b = float(input(\"Nhap chieu rong can phong:\"))\n",
    "print(\"Chieu dai can phong:\",a)\n",
    "print(\"Chieu rong can phong:\",b)\n",
    "S=a*b\n",
    "print(\"Dien tich cua can phong:\",S,\"m^2\")"
   ]
  },
  {
   "cell_type": "code",
   "execution_count": 36,
   "id": "468ab231-f81b-455b-a362-8562b96df84f",
   "metadata": {},
   "outputs": [
    {
     "data": {
      "text/plain": [
       "'Bài 11: Viết chương trình đọc chiều dài và chiều rộng của một cánh đồng từ người dùng. Hiển thị diện tích của cánh đồng theo đơn vị tính là Mẫu Anh. Gợi ý: Một Mẫu Anh bằng 43.560 met vuông'"
      ]
     },
     "execution_count": 36,
     "metadata": {},
     "output_type": "execute_result"
    }
   ],
   "source": [
    "'''Bài 11: Viết chương trình đọc chiều dài và chiều rộng của một cánh đồng từ người dùng. Hiển thị diện tích của cánh đồng theo đơn vị tính là Mẫu Anh. Gợi ý: Một Mẫu Anh bằng 43.560 met vuông'''\n"
   ]
  },
  {
   "cell_type": "code",
   "execution_count": 13,
   "id": "28370525-0b65-4991-92f6-41f530601cb9",
   "metadata": {},
   "outputs": [
    {
     "name": "stdin",
     "output_type": "stream",
     "text": [
      "Nhap chieu dai(m) cua canh dong:  20\n",
      "Nhap chieu rong(m) cua canh dong:  15\n"
     ]
    },
    {
     "name": "stdout",
     "output_type": "stream",
     "text": [
      "Dien tich cua canh dong theo don vi tinh Mau Anh la:  0.01\n"
     ]
    }
   ],
   "source": [
    "from math import*\n",
    "a = float(input(\"Nhap chieu dai(m) cua canh dong: \"))\n",
    "b = float(input(\"Nhap chieu rong(m) cua canh dong: \"))\n",
    "S = a*b\n",
    "c=S/43560\n",
    "#round là làm tròn đến số thập phân\n",
    "print (\"Dien tich cua canh dong theo don vi tinh Mau Anh la: \",round (c,2))"
   ]
  },
  {
   "cell_type": "code",
   "execution_count": 42,
   "id": "370b276e-0eab-4c7f-85fe-820ab0d2de3c",
   "metadata": {},
   "outputs": [
    {
     "data": {
      "text/plain": [
       "'Bài 12: Viết chương trình nhập chi phí của một bữa ăn tại nhà hàng từ người dùng. Chương trình sẽ tính thuế và tiền boa cho bữa ăn. Trong đó, tiền boa là 18% số tiền bữa ăn (không có thuế); tiền thuế là 5% số tiền bữa ăn. Đầu ra của chương trình là tổng tiền, gồm: thuế, số tiền boa và tiền bữa ăn. Định dạng đầu ra sao cho tất cả các giá trị được hiển thị bằng hai con số thập phân\\n'"
      ]
     },
     "execution_count": 42,
     "metadata": {},
     "output_type": "execute_result"
    }
   ],
   "source": [
    "'''Bài 12: Viết chương trình nhập chi phí của một bữa ăn tại nhà hàng từ người dùng. Chương trình sẽ tính thuế và tiền boa cho bữa ăn. Trong đó, tiền boa là 18% số tiền bữa ăn (không có thuế); tiền thuế là 5% số tiền bữa ăn. Đầu ra của chương trình là tổng tiền, gồm: thuế, số tiền boa và tiền bữa ăn. Định dạng đầu ra sao cho tất cả các giá trị được hiển thị bằng hai con số thập phân\n",
    "'''"
   ]
  },
  {
   "cell_type": "code",
   "execution_count": 15,
   "id": "33d824a4-08b2-4480-a91f-8b576db64ebe",
   "metadata": {},
   "outputs": [
    {
     "name": "stdin",
     "output_type": "stream",
     "text": [
      "Nhap so tien bua an:  500.000\n"
     ]
    },
    {
     "name": "stdout",
     "output_type": "stream",
     "text": [
      "Tong tien: 615.0\n"
     ]
    }
   ],
   "source": [
    "from math import*\n",
    "a = float (input(\"Nhap so tien bua an: \"))\n",
    "#b la tien boa\n",
    "b = a*18/100\n",
    "#c la tien  thue\n",
    "c =a*5/100\n",
    "total = a+b+c\n",
    "print(\"Tong tien:\",round(total,2))"
   ]
  },
  {
   "cell_type": "code",
   "execution_count": 49,
   "id": "42a4838a-2d38-4e65-a71d-a39210e1f41e",
   "metadata": {},
   "outputs": [
    {
     "data": {
      "text/plain": [
       "'Bài 13: Viết chương trình đọc một số nguyên dương n từ người dùng và sau đó hiển thị tổng của tất cả các số nguyên từ 1 đến n. Tổng của n số nguyên dương đầu tiên có thể được tính bằng công thức:sum=[n*(n+1)]/2\\n'"
      ]
     },
     "execution_count": 49,
     "metadata": {},
     "output_type": "execute_result"
    }
   ],
   "source": [
    "'''Bài 13: Viết chương trình đọc một số nguyên dương n từ người dùng và sau đó hiển thị tổng của tất cả các số nguyên từ 1 đến n. Tổng của n số nguyên dương đầu tiên có thể được tính bằng công thức:sum=[n*(n+1)]/2\n",
    "'''"
   ]
  },
  {
   "cell_type": "code",
   "execution_count": 16,
   "id": "b262bc6a-a1f5-4cd5-a4f6-fd391466f05f",
   "metadata": {},
   "outputs": [
    {
     "name": "stdin",
     "output_type": "stream",
     "text": [
      "Nhap so nguyen duong: 5\n"
     ]
    },
    {
     "name": "stdout",
     "output_type": "stream",
     "text": [
      "Tong cac so nguyen tu 1 den n la:  15\n"
     ]
    }
   ],
   "source": [
    "n = int(input(\"Nhap so nguyen duong:\"))\n",
    "if n>0:\n",
    "    sum=(n)*(n+1)//2\n",
    "    print(\"Tong cac so nguyen tu 1 den n la: \",sum)\n",
    "else:\n",
    "    print(\"Nhap so nguyen duong:\")"
   ]
  },
  {
   "cell_type": "code",
   "execution_count": 53,
   "id": "4e7d9e9e-d41c-49ab-9336-22f635d72574",
   "metadata": {},
   "outputs": [
    {
     "data": {
      "text/plain": [
       "'Bài 14: Viết một chương trình đọc hai số nguyên a và b từ người dùng. Chương trình sẽ tính toán và hiển thị:\\nTổng của a và b\\nHiệu của a và b\\nTích của a và b\\nThương của a chia cho b\\nPhần còn lại khi a được chia cho b\\nKết quả của 〖𝑙𝑜𝑔〗_10 𝑎\\nKết quả của ab'"
      ]
     },
     "execution_count": 53,
     "metadata": {},
     "output_type": "execute_result"
    }
   ],
   "source": [
    "'''Bài 14: Viết một chương trình đọc hai số nguyên a và b từ người dùng. Chương trình sẽ tính toán và hiển thị:\n",
    "Tổng của a và b\n",
    "Hiệu của a và b\n",
    "Tích của a và b\n",
    "Thương của a chia cho b\n",
    "Phần còn lại khi a được chia cho b\n",
    "Kết quả của 〖𝑙𝑜𝑔〗_10 𝑎\n",
    "Kết quả của ab'''\n"
   ]
  },
  {
   "cell_type": "code",
   "execution_count": 17,
   "id": "a6ce657c-7da6-4fb5-82e5-871af102cb9e",
   "metadata": {},
   "outputs": [
    {
     "name": "stdin",
     "output_type": "stream",
     "text": [
      "Nhap so nguyen duong a: 5\n",
      "Nhap so nguyen duong b: 10\n"
     ]
    },
    {
     "name": "stdout",
     "output_type": "stream",
     "text": [
      "Tong cua a va b: 15\n",
      "Hieu cua a va b: -5\n",
      "Tich cua a va b: 50\n",
      "Thuong cua a va b: 0\n",
      "Phan con lai cua a chia b: 5\n",
      "Ket qua cua log10(a): 0.6989700043360189\n",
      "Ket qua cua a^b: 9765625\n"
     ]
    }
   ],
   "source": [
    "from math import*\n",
    "a = int(input(\"Nhap so nguyen duong a:\"))\n",
    "b = int(input(\"Nhap so nguyen duong b:\"))\n",
    "print(\"Tong cua a va b:\", a+b)\n",
    "print(\"Hieu cua a va b:\", a-b)\n",
    "print(\"Tich cua a va b:\", a*b)\n",
    "print(\"Thuong cua a va b:\", a//b)\n",
    "print(\"Phan con lai cua a chia b:\", a%b)\n",
    "print(\"Ket qua cua log10(a):\",log10(a))\n",
    "print(\"Ket qua cua a^b:\", a**b)"
   ]
  },
  {
   "cell_type": "code",
   "execution_count": 64,
   "id": "df445302-12d6-48bc-ab2d-c59fc42fa2b4",
   "metadata": {},
   "outputs": [
    {
     "data": {
      "text/plain": [
       "'Bài 15: Năng lượng Q cần để thay đổi ΔT nhiệt độ (xét trường hợp ΔT > 0) của M gram nước  được tính bằng: Q = M × C × ΔT, trong đó ΔT có đơn vị là độ (độ Celsius), M có đơn vị gram và Q có đơn vị là Joules'"
      ]
     },
     "execution_count": 64,
     "metadata": {},
     "output_type": "execute_result"
    }
   ],
   "source": [
    "'''Bài 15: Năng lượng Q cần để thay đổi ΔT nhiệt độ (xét trường hợp ΔT > 0) của M gram nước  được tính bằng: Q = M × C × ΔT, trong đó ΔT có đơn vị là độ (độ Celsius), M có đơn vị gram và Q có đơn vị là Joules'''"
   ]
  },
  {
   "cell_type": "code",
   "execution_count": 18,
   "id": "d37bbb2f-773e-43e6-b290-817a1db375dc",
   "metadata": {},
   "outputs": [
    {
     "name": "stdin",
     "output_type": "stream",
     "text": [
      "Nhap gia tri chenh lech nhiet do: 10\n",
      "Nhap khoi luong(gram) nuoc: 5\n"
     ]
    },
    {
     "name": "stdout",
     "output_type": "stream",
     "text": [
      "Tong nang luong cua nuoc khi thay doi nhiet do: 209.3 J\n",
      "Chi phi de nuoc dat nhiet do yeu cau: 0.000517291229 cent\n"
     ]
    }
   ],
   "source": [
    "from math import*\n",
    "dentaT =float(input(\"Nhap gia tri chenh lech nhiet do:\"))\n",
    "M=float(input(\"Nhap khoi luong(gram) nuoc:\"))\n",
    "#C la  nhiet dung rieng cua nuoc\n",
    "C=4.186\n",
    "Q=M*C*dentaT\n",
    "print(\"Tong nang luong cua nuoc khi thay doi nhiet do:\",Q,\"J\" )\n",
    "#total la chi phi\n",
    "total = 8.9*2.777e-7*Q\n",
    "print(\"Chi phi de nuoc dat nhiet do yeu cau:\", total,\"cent\")"
   ]
  },
  {
   "cell_type": "code",
   "execution_count": 75,
   "id": "a8e7a104-7c52-4fa6-bf4f-0020aae70078",
   "metadata": {},
   "outputs": [
    {
     "data": {
      "text/plain": [
       "'Bài 16: Viết một chương trình xác định tốc độ di chuyển của một vật khi nó chạm đất. Người dùng sẽ nhập chiều cao mà từ đó vật đó được thả (đơn vị tính mét (m)).\\n'"
      ]
     },
     "execution_count": 75,
     "metadata": {},
     "output_type": "execute_result"
    }
   ],
   "source": [
    "'''Bài 16: Viết một chương trình xác định tốc độ di chuyển của một vật khi nó chạm đất. Người dùng sẽ nhập chiều cao mà từ đó vật đó được thả (đơn vị tính mét (m)).\n",
    "'''"
   ]
  },
  {
   "cell_type": "code",
   "execution_count": 5,
   "id": "8f7e7664-0ba1-4742-bf19-34c816b0acdb",
   "metadata": {},
   "outputs": [
    {
     "name": "stdin",
     "output_type": "stream",
     "text": [
      "Nhập độ cao (m):  5\n"
     ]
    },
    {
     "name": "stdout",
     "output_type": "stream",
     "text": [
      "9.899494936611665\n"
     ]
    }
   ],
   "source": [
    "from math import*\n",
    "a=9.8\n",
    "vi=0\n",
    "d= float(input(\"Nhap do cao cua vat(m):\"))\n",
    "vf=sqrt(vi**2 + 2*a*d)\n",
    "print(\"Toc do di chuyen cua vat khi no cham dat:\",vf,\"m/s\")"
   ]
  },
  {
   "cell_type": "code",
   "execution_count": 6,
   "id": "0e07035d-53a0-4b16-8dc7-9d8bb5420d6a",
   "metadata": {},
   "outputs": [
    {
     "name": "stdin",
     "output_type": "stream",
     "text": [
      "Nhap nhiet do(C) khong khi: 20\n",
      "Nhap toc do(km/h) gio: 5\n"
     ]
    },
    {
     "name": "stdout",
     "output_type": "stream",
     "text": [
      "Chi so gio lanh:  11 m/s\n"
     ]
    }
   ],
   "source": [
    "##### bài 17\n",
    "Ta = float(input(\"Nhap nhiet do(C) khong khi:\"))\n",
    "V = float(input(\"Nhap toc do(km/h) gio:\"))\n",
    "wci=13.12 + 0.6125*Ta -11.37*V**0.16 + 0.3965*Ta**0.16\n",
    "WCI=round(wci)\n",
    "print(\"Chi so gio lanh: \",WCI,\"m/s\")"
   ]
  },
  {
   "cell_type": "code",
   "execution_count": null,
   "id": "f6ede4e9-087b-439a-b7dc-7a7f1bb9f36f",
   "metadata": {},
   "outputs": [],
   "source": []
  },
  {
   "cell_type": "code",
   "execution_count": null,
   "id": "2d71a5d0-a817-4dc0-afa5-44c915078ba4",
   "metadata": {},
   "outputs": [],
   "source": []
  }
 ],
 "metadata": {
  "kernelspec": {
   "display_name": "Python [conda env:base]",
   "language": "python",
   "name": "conda-base-py"
  },
  "language_info": {
   "codemirror_mode": {
    "name": "ipython",
    "version": 3
   },
   "file_extension": ".py",
   "mimetype": "text/x-python",
   "name": "python",
   "nbconvert_exporter": "python",
   "pygments_lexer": "ipython3",
   "version": "3.13.5"
  }
 },
 "nbformat": 4,
 "nbformat_minor": 5
}
