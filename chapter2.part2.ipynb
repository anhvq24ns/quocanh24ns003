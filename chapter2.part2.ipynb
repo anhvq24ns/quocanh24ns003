{
 "cells": [
  {
   "cell_type": "code",
   "execution_count": 3,
   "id": "a1f429e6-c4d4-4268-9b30-5942042d532d",
   "metadata": {},
   "outputs": [
    {
     "name": "stdin",
     "output_type": "stream",
     "text": [
      " Enter your positive integer:  6\n"
     ]
    },
    {
     "name": "stdout",
     "output_type": "stream",
     "text": [
      " This is an even number!\n"
     ]
    }
   ],
   "source": [
    "# bai 1\n",
    "number = input(\" Enter your positive integer: \")\n",
    "if int(number)%2 == 0:\n",
    "      print(\" This is an even number!\")\n",
    "else:\n",
    "       print(\" This is an odd number!\")\n"
   ]
  },
  {
   "cell_type": "code",
   "execution_count": 58,
   "id": "f3e78cac-41cd-45f9-8ebe-3c79de36dce9",
   "metadata": {},
   "outputs": [
    {
     "name": "stdin",
     "output_type": "stream",
     "text": [
      " Enter your string:  rerette\n"
     ]
    },
    {
     "name": "stdout",
     "output_type": "stream",
     "text": [
      "This is an lower string\n"
     ]
    }
   ],
   "source": [
    "# bai 2\n",
    "st = input(\" Enter your string: \")\n",
    "if st.isupper():\n",
    "   \t    print(\"This is an upper string\")\n",
    "elif st.islower():\n",
    "   \t    print(\"This is an lower string\")\n",
    "else:\n",
    "   \t    print(\" This string contains upper and lower characters \")\n"
   ]
  },
  {
   "cell_type": "code",
   "execution_count": 61,
   "id": "08455bb4-adab-4794-8386-e13ef822e2ac",
   "metadata": {},
   "outputs": [
    {
     "name": "stdin",
     "output_type": "stream",
     "text": [
      "Enter your string:  Tree\n"
     ]
    },
    {
     "name": "stdout",
     "output_type": "stream",
     "text": [
      "This string contains upper and lower characters\n"
     ]
    }
   ],
   "source": [
    "# bai 3\n",
    "\n",
    "st = input(\"Enter your string: \")\n",
    "if st.isupper():\n",
    "    print(\"This is an upper string\")\n",
    "elif st.islower():\n",
    "    print(\"This is a lower string\")\n",
    "else:\n",
    "    print(\"This string contains upper and lower characters\")"
   ]
  },
  {
   "cell_type": "code",
   "execution_count": 62,
   "id": "fc993862-2c37-43f5-acb6-519032a45269",
   "metadata": {},
   "outputs": [
    {
     "name": "stdin",
     "output_type": "stream",
     "text": [
      "Enter first number:  1\n",
      "Enter second number:  2\n",
      "Enter third number:  3\n"
     ]
    },
    {
     "name": "stdout",
     "output_type": "stream",
     "text": [
      "The largest number between 1.0 , 2.0 and 3.0 is 3.0\n"
     ]
    }
   ],
   "source": [
    "# bai 4\n",
    "num1 = float(input(\"Enter first number: \"))\n",
    "num2 = float(input(\"Enter second number: \"))\n",
    "num3 = float(input(\"Enter third number: \"))\n",
    "\n",
    "if (num1 >= num2) and (num1 >= num3):\n",
    "   largest = num1\n",
    "elif (num2 >= num1) and (num2 >= num3):\n",
    "   largest = num2\n",
    "else:\n",
    "   largest = num3\n",
    "print(\"The largest number between\", num1, \",\", num2, \"and\", num3,\"is\", largest)"
   ]
  },
  {
   "cell_type": "code",
   "execution_count": 63,
   "id": "6591850f-8410-4e5d-b5e1-9bf45d30578b",
   "metadata": {},
   "outputs": [
    {
     "name": "stdin",
     "output_type": "stream",
     "text": [
      " Enter an integer greater than 0 :  3\n"
     ]
    },
    {
     "name": "stdout",
     "output_type": "stream",
     "text": [
      "1.9166666666666665\n"
     ]
    }
   ],
   "source": [
    "# bai 5\n",
    "n=int(input(\" Enter an integer greater than 0 : \"))\n",
    "sum=0.0\n",
    "for i in range(1,n+1):\n",
    "    sum += float(float(i)/(i+1))\n",
    "print(sum)\n"
   ]
  },
  {
   "cell_type": "code",
   "execution_count": 64,
   "id": "9d9bafd6-1fa7-4a32-9010-8ce084f90e1e",
   "metadata": {},
   "outputs": [
    {
     "name": "stdin",
     "output_type": "stream",
     "text": [
      "Enter your sentence:  Hi xin chao\n"
     ]
    },
    {
     "name": "stdout",
     "output_type": "stream",
     "text": [
      "Sum of Upper Character: 1\n",
      "Sum of Lower Character: 8\n"
     ]
    }
   ],
   "source": [
    "# bai 6\n",
    "st = input(\"Enter your sentence: \")\n",
    "Sum_upper_Char = 0\n",
    "Sum_lower_Char = 0\n",
    "for c in st:\n",
    "    if c.isupper():\n",
    " \t   Sum_upper_Char +=1 \n",
    "    elif c.islower():\n",
    " \t   Sum_lower_Char +=1 \n",
    "    else:\n",
    "        pass      \n",
    "print(\"Sum of Upper Character:\", Sum_upper_Char)\n",
    "print(\"Sum of Lower Character:\", Sum_lower_Char)\n"
   ]
  },
  {
   "cell_type": "code",
   "execution_count": 65,
   "id": "c7b8f71c-e616-4b74-b6c4-8234c8899a27",
   "metadata": {},
   "outputs": [
    {
     "name": "stdin",
     "output_type": "stream",
     "text": [
      "Enter a number:  3\n",
      "Bậc:  2\n"
     ]
    },
    {
     "name": "stdout",
     "output_type": "stream",
     "text": [
      "3 is not Amstrong\n"
     ]
    }
   ],
   "source": [
    "# bai 7\n",
    "num = int(input(\"Enter a number: \"))\n",
    "level = int(input(\"Bậc: \"))\n",
    "sum = 0\n",
    "temp = num\n",
    "while temp > 0:\n",
    "   digit = temp % 10\n",
    "   sum += digit ** level\n",
    "   temp //= 10\n",
    "if num == sum:\n",
    "   print(num, \"is Amstrong, level : \" + str(level))\n",
    "else:\n",
    "   print(num, \"is not Amstrong\")\n"
   ]
  },
  {
   "cell_type": "code",
   "execution_count": 66,
   "id": "7b8ca0a5-c29b-463d-80c1-1ebf887b2fb9",
   "metadata": {},
   "outputs": [
    {
     "name": "stdout",
     "output_type": "stream",
     "text": [
      "Hello he said and went\n"
     ]
    }
   ],
   "source": [
    "# bai 8\n",
    "st1 = \"\"\"!()-[]{};:\"\"\\,<>./?@#$%^&*_~\"\"\"\n",
    "my_str = \"Hello!!!, he said ---and went.\"\n",
    "st2 = \"\"\n",
    "for char in my_str:\n",
    "   if char not in st1:\n",
    "       st2 = st2 + char\n",
    "print(st2)\n"
   ]
  },
  {
   "cell_type": "code",
   "execution_count": 67,
   "id": "e603c417-f128-4877-b942-ee784c5825c6",
   "metadata": {},
   "outputs": [
    {
     "name": "stdout",
     "output_type": "stream",
     "text": [
      "Các từ đã được tách và sắp xếp theo Alphabe\n",
      "Example\n",
      "Hello\n",
      "Is\n",
      "With\n",
      "an\n",
      "cased\n",
      "letters\n",
      "this\n"
     ]
    }
   ],
   "source": [
    "# bai 9\n",
    "my_str = \"Hello this Is an Example With cased letters\"\n",
    "ds_tu = my_str.split()\n",
    "ds_tu.sort()\n",
    "print(\"Các từ đã được tách và sắp xếp theo Alphabe\")\n",
    "for tu in ds_tu:\n",
    "   \t    print(tu)"
   ]
  },
  {
   "cell_type": "code",
   "execution_count": 71,
   "id": "ccb48a1b-eaab-466c-8e9f-76d180dc17d6",
   "metadata": {},
   "outputs": [
    {
     "name": "stdin",
     "output_type": "stream",
     "text": [
      "Enter a number:  2\n",
      "Enter a number:  3\n",
      "Enter a number:  3\n",
      "Enter a number:  \n"
     ]
    },
    {
     "name": "stdout",
     "output_type": "stream",
     "text": [
      "Invalid input! Please enter a number or 'done'.\n"
     ]
    },
    {
     "name": "stdin",
     "output_type": "stream",
     "text": [
      "Enter a number:  3\n",
      "Enter a number:  done\n"
     ]
    },
    {
     "name": "stdout",
     "output_type": "stream",
     "text": [
      "Average is: 2.75\n"
     ]
    }
   ],
   "source": [
    "# bai 10\n",
    "total = 0\n",
    "count = 0\n",
    "while True:\n",
    "    inp = input(\"Enter a number: \")\n",
    "    if inp == \"done\":\n",
    "        break\n",
    "    try:\n",
    "        value = float(inp) \n",
    "        total += value\n",
    "        count += 1\n",
    "    except ValueError:\n",
    "        print(\"Invalid input! Please enter a number or 'done'.\")\n",
    "\n",
    "if count == 0:\n",
    "    print(\"No numbers entered, cannot calculate average.\")\n",
    "else:\n",
    "    average = total / count\n",
    "    print(\"Average is:\", average)"
   ]
  },
  {
   "cell_type": "code",
   "execution_count": 4,
   "id": "62d67bac-0bda-4e2c-80e1-0bf3a49d0bfb",
   "metadata": {},
   "outputs": [
    {
     "name": "stdin",
     "output_type": "stream",
     "text": [
      "Enter a number:  2\n",
      "Enter a number:  4\n",
      "Enter a number:  5\n",
      "Enter a number:  done\n"
     ]
    },
    {
     "name": "stdout",
     "output_type": "stream",
     "text": [
      "Giá trị Trung bình: 3.6666666666666665\n",
      "[2.0, 4.0, 5.0]\n"
     ]
    }
   ],
   "source": [
    "# bai 11\n",
    "numlist = list()\n",
    "while (True):\n",
    "    inp = input(\"Enter a number: \")\n",
    "    if inp == \"done\": break\n",
    "    value = float(inp)\n",
    "    numlist.append(value)\n",
    "\n",
    "average = sum(numlist) / len(numlist)\n",
    "print(\"Giá trị Trung bình:\", average)\n",
    "print(numlist)\n"
   ]
  },
  {
   "cell_type": "code",
   "execution_count": 7,
   "id": "a587cbce-7a2f-4ff9-a4f6-b146c181b29d",
   "metadata": {},
   "outputs": [
    {
     "name": "stdout",
     "output_type": "stream",
     "text": [
      "2002,2009,2016,2023,2037,2044,2051,2058,2072,2079,2086,2093,2107,2114,2121,2128,2142,2149,2156,2163,2177,2184,2191,2198,2212,2219,2226,2233,2247,2254,2261,2268,2282,2289,2296,2303,2317,2324,2331,2338,2352,2359,2366,2373,2387,2394,2401,2408,2422,2429,2436,2443,2457,2464,2471,2478,2492,2499,2506,2513,2527,2534,2541,2548,2562,2569,2576,2583,2597,2604,2611,2618,2632,2639,2646,2653,2667,2674,2681,2688,2702,2709,2716,2723,2737,2744,2751,2758,2772,2779,2786,2793,2807,2814,2821,2828,2842,2849,2856,2863,2877,2884,2891,2898,2912,2919,2926,2933,2947,2954,2961,2968,2982,2989,2996,3003,3017,3024,3031,3038,3052,3059,3066,3073,3087,3094,3101,3108,3122,3129,3136,3143,3157,3164,3171,3178,3192,3199\n"
     ]
    }
   ],
   "source": [
    "# ba\n",
    "j = []\n",
    "for i in range(2000, 3201):\n",
    "    if (i % 7 == 0) and (i % 5 != 0):\n",
    "        j.append(str(i))\n",
    "print(\",\".join(j))"
   ]
  },
  {
   "cell_type": "code",
   "execution_count": 1,
   "id": "69cf84f3-89e3-4f23-a5f3-4af1ec7e9e77",
   "metadata": {},
   "outputs": [
    {
     "name": "stdin",
     "output_type": "stream",
     "text": [
      " chao cac ban \n",
      " than men\n",
      " \n"
     ]
    },
    {
     "name": "stdout",
     "output_type": "stream",
     "text": [
      "CHAO CAC BAN \n",
      "THAN MEN\n"
     ]
    }
   ],
   "source": [
    "# bai 13\n",
    "lines = []\n",
    "while True:\n",
    "   s = input()\n",
    "   if s:\n",
    "      lines.append(s.upper())\n",
    "   else:\n",
    "      break;\n",
    "for sentence in lines:\n",
    "    print(sentence)\n"
   ]
  },
  {
   "cell_type": "code",
   "execution_count": 9,
   "id": "b129215b-f7ee-4055-8eac-69a3b94ef5ef",
   "metadata": {},
   "outputs": [
    {
     "name": "stdout",
     "output_type": "stream",
     "text": [
      "200,202,204,206,208,220,222,224,226,228,240,242,244,246,248,260,262,264,266,268,280,282,284,286,288\n"
     ]
    }
   ],
   "source": [
    "# Bài 14\n",
    "values = []\n",
    "for i in range(100, 301):\n",
    "    s = str(i)\n",
    "    if (int(s[0]) % 2 == 0) and (int(s[1]) % 2 == 0) and (int(s[2]) % 2 == 0):\n",
    "        values.append(s)\n",
    "print(\",\".join(values))\n"
   ]
  },
  {
   "cell_type": "code",
   "execution_count": 12,
   "id": "356f7400-e460-41b9-88b7-940b2ffc5d27",
   "metadata": {},
   "outputs": [
    {
     "name": "stdin",
     "output_type": "stream",
     "text": [
      "Nhập vào các giá trị: hi xin chao\n"
     ]
    },
    {
     "name": "stdout",
     "output_type": "stream",
     "text": [
      "['hi xin chao']\n",
      "('hi xin chao',)\n"
     ]
    }
   ],
   "source": [
    "# bai 15\n",
    "chuoi=input(\"Nhập vào các giá trị:\")\n",
    "kieu_ds=chuoi.split(\",\")\n",
    "kieu_tuples=tuple(kieu_ds)\n",
    "print(kieu_ds)\n",
    "print(kieu_tuples)\n",
    "\n"
   ]
  },
  {
   "cell_type": "code",
   "execution_count": 3,
   "id": "4f0c47e5-4ff0-4c3d-bf85-0b7aee1f9ca4",
   "metadata": {},
   "outputs": [
    {
     "name": "stdin",
     "output_type": "stream",
     "text": [
      "Nhập vào một số: 2\n"
     ]
    },
    {
     "name": "stdout",
     "output_type": "stream",
     "text": [
      "{1: 1, 2: 4}\n"
     ]
    }
   ],
   "source": [
    "# bai 16\n",
    "n=int(input(\"Nhập vào một số:\"))\n",
    "d=dict()\n",
    "for i in range(1,n+1):\n",
    "    d[i]=i*i\n",
    "print(d)\n",
    "\n"
   ]
  },
  {
   "cell_type": "code",
   "execution_count": 2,
   "id": "87b88800-19ea-490b-bc8a-1dae6d26c52c",
   "metadata": {},
   "outputs": [
    {
     "name": "stdin",
     "output_type": "stream",
     "text": [
      "Nhập vào một chuỗi:  hello 123\n"
     ]
    },
    {
     "name": "stdout",
     "output_type": "stream",
     "text": [
      "Số chữ cái là: 5\n",
      "Số chữ số là: 3\n"
     ]
    }
   ],
   "source": [
    "# bai 17\n",
    "chuoi = input(\"Nhập vào một chuỗi: \")\n",
    "d = {\"chu_cai\": 0, \"chu_so\": 0}\n",
    "\n",
    "for ch in chuoi:\n",
    "    if ch.isalpha():\n",
    "        d[\"chu_cai\"] += 1\n",
    "    elif ch.isdigit():\n",
    "        d[\"chu_so\"] += 1\n",
    "    else:\n",
    "        pass\n",
    "\n",
    "print(\"Số chữ cái là:\", d[\"chu_cai\"])\n",
    "print(\"Số chữ số là:\", d[\"chu_so\"])\n"
   ]
  },
  {
   "cell_type": "code",
   "execution_count": 10,
   "id": "255e23db-0f4f-4350-be14-c20ae9941403",
   "metadata": {},
   "outputs": [
    {
     "name": "stdin",
     "output_type": "stream",
     "text": [
      "Nhập vào một số: Hi xin Chao\n"
     ]
    },
    {
     "name": "stdout",
     "output_type": "stream",
     "text": [
      "Số chữ hoa là: 2\n",
      "Số chữ thường là: 7\n"
     ]
    }
   ],
   "source": [
    "# bai 18\n",
    "chuoi = input(\"Nhập vào một số:\")\n",
    "d= {\"chu_hoa\":0 , \"chu_thuong\": 0}\n",
    "for ch in chuoi:\n",
    "    if ch.isupper() == True:\n",
    "       d[\"chu_hoa\"] +=1\n",
    "    elif ch.islower() == True:\n",
    "       d[\"chu_thuong\"] +=1\n",
    "    else:\n",
    "       pass\n",
    "print(\"Số chữ hoa là:\", d[\"chu_hoa\"])\n",
    "print(\"Số chữ thường là:\", d[\"chu_thuong\"])\n"
   ]
  },
  {
   "cell_type": "code",
   "execution_count": 15,
   "id": "effceb42-1c3b-4a53-8377-a48e0eedf190",
   "metadata": {
    "scrolled": true
   },
   "outputs": [
    {
     "name": "stdout",
     "output_type": "stream",
     "text": [
      "the 3\n",
      "is 3\n",
      "and 3\n",
      "sun 2\n",
      "yonder 1\n",
      "with 1\n",
      "window 1\n",
      "what 1\n",
      "through 1\n",
      "soft 1\n"
     ]
    }
   ],
   "source": [
    "# bai 19\n",
    "ftext = open(\"romeo.txt\")\n",
    "tu_dien_cac_tu = {}\n",
    "\n",
    "for dong in ftext:\n",
    "    danh_sach_tu = dong.split()\n",
    "    for tu in danh_sach_tu:\n",
    "        tu_dien_cac_tu[tu] = tu_dien_cac_tu.get(tu, 0) + 1\n",
    "\n",
    "danh_sach = []\n",
    "for key, val in tu_dien_cac_tu.items():\n",
    "    newtup = (val, key)\n",
    "    danh_sach.append(newtup)\n",
    "\n",
    "danh_sach = sorted(danh_sach, reverse=True)\n",
    "\n",
    "for val, key in danh_sach[:10]:\n",
    "    print(key, val)\n",
    "\n"
   ]
  },
  {
   "cell_type": "code",
   "execution_count": 14,
   "id": "c09f4b16-6f1d-4ba1-b2d0-30e4fa1b1395",
   "metadata": {},
   "outputs": [
    {
     "name": "stdout",
     "output_type": "stream",
     "text": [
      "Đã tạo file romeo.txt thành công!\n"
     ]
    }
   ],
   "source": [
    "# bai 19\n",
    "noi_dung = \"\"\"But soft what light through yonder window breaks\n",
    "It is the east and Juliet is the sun\n",
    "Arise fair sun and kill the envious moon\n",
    "Who is already sick and pale with grief\n",
    "\"\"\"\n",
    "\n",
    "with open(\"romeo.txt\", \"w\") as f:\n",
    "    f.write(noi_dung)\n",
    "\n",
    "print(\"Đã tạo file romeo.txt thành công!\")\n"
   ]
  },
  {
   "cell_type": "code",
   "execution_count": 24,
   "id": "670a0292-8816-43e0-a2b8-31fb1c96ff60",
   "metadata": {},
   "outputs": [
    {
     "name": "stdin",
     "output_type": "stream",
     "text": [
      "Nhập số cần tính giai thừa:  2\n"
     ]
    },
    {
     "name": "stdout",
     "output_type": "stream",
     "text": [
      "Giai thừa của 2 là: 2\n"
     ]
    }
   ],
   "source": [
    "# bai 20\n",
    "x = int(input(\"Nhập số cần tính giai thừa: \"))\n",
    "\n",
    "def giaithua(x):\n",
    "    if x == 0:\n",
    "        return 1\n",
    "    return x * giaithua(x - 1)\n",
    "\n",
    "print(\"Giai thừa của\", x, \"là:\", giaithua(x))\n"
   ]
  },
  {
   "cell_type": "code",
   "execution_count": 27,
   "id": "d471f45e-3d5e-481a-ac18-c375be576d0e",
   "metadata": {},
   "outputs": [
    {
     "name": "stdout",
     "output_type": "stream",
     "text": [
      "[1, 4, 9, 16, 25, 36, 49, 64, 81, 100, 121, 144, 169, 196, 225, 256, 289, 324, 361, 400]\n"
     ]
    }
   ],
   "source": [
    "# bai 21\n",
    "def DS() :\n",
    "    ds = list()\n",
    "    for i in range(1,21):\n",
    "        ds.append(i**2)\n",
    "    print(ds)\n",
    "\n",
    "DS()\n",
    "    "
   ]
  },
  {
   "cell_type": "code",
   "execution_count": 34,
   "id": "0bb8e436-bcbc-4d88-8cda-0eeda9c06918",
   "metadata": {
    "scrolled": true
   },
   "outputs": [
    {
     "name": "stdout",
     "output_type": "stream",
     "text": [
      "[1, 4, 9, 16, 25, 256, 289, 324, 361, 400]\n"
     ]
    }
   ],
   "source": [
    "# bai 22\n",
    "def DS ():\n",
    "    DS1= list()\n",
    "    for i in range(1,21):\n",
    "        DS1.append(i**2)\n",
    "    print(DS1[:5] + DS1[len(DS1)-5:])\n",
    "\n",
    "DS()"
   ]
  },
  {
   "cell_type": "code",
   "execution_count": 65,
   "id": "02a50a57-41b4-425a-b647-c248f2d61ccd",
   "metadata": {},
   "outputs": [
    {
     "name": "stdout",
     "output_type": "stream",
     "text": [
      "Đã tạo file Kiem_tra.py thành công!\n"
     ]
    }
   ],
   "source": [
    "# bai 23\n",
    "with open(\"Kiem_tra.py\", \"w\", encoding=\"utf-8\") as f:\n",
    "    f.write(\"\"\"def Check_chan(x):\n",
    "    if x % 2 == 0:\n",
    "        print(x, \"là số chẵn\")\n",
    "    else:\n",
    "        print(x, \"là số lẻ\")\n",
    "\"\"\")\n",
    "print(\"Đã tạo file Kiem_tra.py thành công!\")\n"
   ]
  },
  {
   "cell_type": "code",
   "execution_count": 66,
   "id": "88c29c11-4444-4660-91f8-490dcf862196",
   "metadata": {},
   "outputs": [
    {
     "name": "stdin",
     "output_type": "stream",
     "text": [
      "Nhập vào một số để kiểm tra:  3\n"
     ]
    },
    {
     "name": "stdout",
     "output_type": "stream",
     "text": [
      "3 là số lẻ\n"
     ]
    }
   ],
   "source": [
    "from Kiem_tra import *\n",
    "\n",
    "n = int(input(\"Nhập vào một số để kiểm tra: \"))\n",
    "Check_chan(n)\n"
   ]
  },
  {
   "cell_type": "code",
   "execution_count": 73,
   "id": "cab38104-7f8d-402e-97db-7886573681c2",
   "metadata": {},
   "outputs": [
    {
     "name": "stdout",
     "output_type": "stream",
     "text": [
      "Đã tạo file So_sanh_chuoi.py thành công!\n"
     ]
    }
   ],
   "source": [
    "# bai 24\n",
    "with open(\"So_sanh_chuoi.py\", \"w\", encoding=\"utf-8\") as f:\n",
    "    f.write(\"\"\"def printValue(s1,s2): \n",
    "    len1 = len(s1) \n",
    "    len2 = len(s2) \n",
    "    if len1 > len2: \n",
    "       print(\"chuỗi dài hơn:\", s1) \n",
    "    elif len2 > len1: \n",
    "       print(\"Chuỗi dài hơn:\",s2) \n",
    "    else: \n",
    "       print(s1) \n",
    "       print(s2)\n",
    "\"\"\")\n",
    "print(\"Đã tạo file So_sanh_chuoi.py thành công!\")\n"
   ]
  },
  {
   "cell_type": "code",
   "execution_count": 75,
   "id": "101fb06e-3a46-4a83-ab53-1e8f8e5e9028",
   "metadata": {},
   "outputs": [
    {
     "name": "stdin",
     "output_type": "stream",
     "text": [
      "Nhập vào chuỗi thứ nhất:  chao kai klon\n",
      "Nhập vào chuỗi thứ hai:  chao kai klon\n"
     ]
    },
    {
     "name": "stdout",
     "output_type": "stream",
     "text": [
      "chao kai klon\n",
      "chao kai klon\n"
     ]
    }
   ],
   "source": [
    "from So_sanh_chuoi import *\n",
    "\n",
    "s1 = input(\"Nhập vào chuỗi thứ nhất: \")\n",
    "s2 = input(\"Nhập vào chuỗi thứ hai: \")\n",
    "printValue(s1, s2)\n"
   ]
  },
  {
   "cell_type": "code",
   "execution_count": 86,
   "id": "2f6af1e4-9e28-4dbe-841a-17f9e53e132f",
   "metadata": {},
   "outputs": [
    {
     "name": "stdout",
     "output_type": "stream",
     "text": [
      "✅ Đã tạo file tu_dien.py thành công!\n"
     ]
    }
   ],
   "source": [
    "# bai 25\n",
    "with open(\"tu_dien.py\", \"w\", encoding=\"utf-8\") as f:\n",
    "    f.write(\"\"\"def tao_TD(Max):\n",
    "    d = dict()\n",
    "    for i in range(1, Max + 1):\n",
    "        d[i] = i ** 2\n",
    "    return d\n",
    "\n",
    "\n",
    "def Print_Item(TD):\n",
    "    for k, v in TD.items():\n",
    "        print(k, v)\n",
    "\n",
    "\n",
    "def Print_key(TD):\n",
    "    for k in TD.keys():\n",
    "        print(k)\n",
    "\n",
    "\n",
    "def Print_value(TD):\n",
    "    for v in TD.values():\n",
    "        print(v)\n",
    "\"\"\")\n",
    "\n",
    "print(\"✅ Đã tạo file tu_dien.py thành công!\")\n"
   ]
  },
  {
   "cell_type": "code",
   "execution_count": 91,
   "id": "a64b1695-074a-45bb-aa07-c89a6b9db66c",
   "metadata": {
    "scrolled": true
   },
   "outputs": [
    {
     "name": "stdin",
     "output_type": "stream",
     "text": [
      "Nhập chỉ số Max:  2\n"
     ]
    },
    {
     "name": "stdout",
     "output_type": "stream",
     "text": [
      "Các phần tử của từ điển là:\n",
      "1 1\n",
      "2 4\n",
      "Khóa các phần tử của từ điển:\n",
      "1\n",
      "2\n",
      "Giá trị các phần tử của từ điển:\n",
      "1\n",
      "4\n"
     ]
    }
   ],
   "source": [
    "from tu_dien import *\n",
    "\n",
    "n = int(input(\"Nhập chỉ số Max: \"))\n",
    "TD = tao_TD(n)\n",
    "\n",
    "print(\"Các phần tử của từ điển là:\")\n",
    "Print_Item(TD)\n",
    "\n",
    "print(\"Khóa các phần tử của từ điển:\")\n",
    "Print_key(TD)\n",
    "\n",
    "print(\"Giá trị các phần tử của từ điển:\")\n",
    "Print_value(TD)\n"
   ]
  },
  {
   "cell_type": "code",
   "execution_count": 2,
   "id": "396db539-9c33-4183-8d8b-408bb9443ea1",
   "metadata": {},
   "outputs": [
    {
     "name": "stdin",
     "output_type": "stream",
     "text": [
      "Nhap mot chu cai:  a\n"
     ]
    },
    {
     "name": "stdout",
     "output_type": "stream",
     "text": [
      "Chữ cái 'a' là nguyên âm.\n"
     ]
    }
   ],
   "source": [
    "# bai 26\n",
    "letter = input(\"Nhap mot chu cai: \")\n",
    "# letter = input(\"Nhập một chữ cái: \").lower()\n",
    "\n",
    "if len(letter) == 1 and letter.isalpha():\n",
    "    if letter in 'a,e,i,o,u':\n",
    "        print(f\"Chữ cái '{letter}' là nguyên âm.\")\n",
    "    elif letter == 'y':\n",
    "        print(f\"Chữ cái 'y' có thể là nguyên âm hoặc phụ âm.\")\n",
    "    else:\n",
    "        print(f\"Chữ cái '{letter}' là phụ âm.\")\n",
    "else:\n",
    "    print(\"Vui lòng nhập một chữ cái hợp lệ.\")\n",
    "    \n"
   ]
  },
  {
   "cell_type": "code",
   "execution_count": 13,
   "id": "a3a58ebf-f73a-4cc3-9cbc-a1a774a9529b",
   "metadata": {},
   "outputs": [
    {
     "name": "stdin",
     "output_type": "stream",
     "text": [
      "Nhap so canh : 5\n"
     ]
    },
    {
     "name": "stdout",
     "output_type": "stream",
     "text": [
      "Hình có 5 là hình hình ngũ giác\n"
     ]
    }
   ],
   "source": [
    "# bai 27\n",
    "shapes = {\n",
    "    3: \"hình tam giác\",\n",
    "    4: \"hình tứ giác\",\n",
    "    5: \"hình ngũ giác\",\n",
    "    6: \"hình lục giác\",\n",
    "    7: \"hình thất giác\",\n",
    "    8: \"hình bát giác\",\n",
    "    9: \"hình cửu giác\",\n",
    "    10: \"hình thập giác\",\n",
    "}\n",
    "try:   \n",
    "  hh = int(input(\"Nhap so canh :\"))\n",
    "  if 3 <= hh <= 10:\n",
    "      name = shapes.get(hh)\n",
    "      print(f\"Hình có {hh} là hình {name}\")\n",
    "  else:\n",
    "      print(\"Số cạnh không hợp lệ\")\n",
    "      \n",
    "except ValueError:\n",
    "    print(\"Lỗi: Vui lòng nhập một số nguyên hợp lệ.\")"
   ]
  },
  {
   "cell_type": "code",
   "execution_count": 15,
   "id": "5857db57-9865-46f1-a3ad-ab1a6f520ed7",
   "metadata": {
    "scrolled": true
   },
   "outputs": [
    {
     "name": "stdin",
     "output_type": "stream",
     "text": [
      "Nhập tên tháng:  thang 2\n"
     ]
    },
    {
     "name": "stdout",
     "output_type": "stream",
     "text": [
      "Lỗi: Tên tháng không hợp lệ.\n"
     ]
    }
   ],
   "source": [
    "# bai 28\n",
    "month = input(\"Nhập tên tháng: \")\n",
    "days_in_month = {\n",
    "    \"1\": 31,\n",
    "    \"2\": \"28 hoặc 29\",\n",
    "    \"3\": 31,\n",
    "    \"4\": 30,\n",
    "    \"5\": 31,\n",
    "    \"6\": 30,\n",
    "    \"7\": 31,\n",
    "    \"8\": 31,\n",
    "    \"\": 30,\n",
    "    \"tháng mười\": 31,\n",
    "    \"tháng mười một\": 30,\n",
    "    \"tháng mười hai\": 31\n",
    "}\n",
    "\n",
    "if month in days_in_month:\n",
    "    print(f\"Số ngày trong {month} là {days_in_month[month]} ngày.\")\n",
    "else:\n",
    "    print(\"Lỗi: Tên tháng không hợp lệ.\")"
   ]
  },
  {
   "cell_type": "code",
   "execution_count": 15,
   "id": "8b84546c-9099-4632-9ad7-09064809135a",
   "metadata": {},
   "outputs": [
    {
     "name": "stdin",
     "output_type": "stream",
     "text": [
      "Nhập cạnh 1 của hình tam giác: 3\n",
      "Nhập cạnh 2 của hình tam giác: 3\n",
      "Nhập cạnh 3 của hình tam giác: 4\n"
     ]
    },
    {
     "name": "stdout",
     "output_type": "stream",
     "text": [
      "Tam giác có sô cạnh 3, 3, 4 là tam giác cân.\n"
     ]
    }
   ],
   "source": [
    "#bai 29\n",
    "def hinh_tam_giac():\n",
    "    a = int(input(\"Nhập cạnh 1 của hình tam giác:\"))\n",
    "    b = int(input(\"Nhập cạnh 2 của hình tam giác:\"))\n",
    "    c = int(input(\"Nhập cạnh 3 của hình tam giác:\"))\n",
    "    if a<0 or b<0 or c<0 or (a + b <= c) or (b + c <= a) or (a + c <=b):\n",
    "       print(\" Đây không phải là tam giác\")\n",
    "       return\n",
    "    if a == b == c: \n",
    "       print(f\"Tam giác có số cạnh {a}, {b}, {c} là tam giác đều.\")\n",
    "    elif a == b or a == c or b == c:\n",
    "       print(f\"Tam giác có sô cạnh {a}, {b}, {c} là tam giác cân.\")\n",
    "    else:\n",
    "       print(\"Đây là tam giác thường.\")\n",
    "    \n",
    "hinh_tam_giac()"
   ]
  },
  {
   "cell_type": "code",
   "execution_count": 16,
   "id": "b578bb16-e776-4cbc-a607-139378b08405",
   "metadata": {
    "scrolled": true
   },
   "outputs": [
    {
     "name": "stdin",
     "output_type": "stream",
     "text": [
      "Nhập số năm : 2020\n"
     ]
    },
    {
     "name": "stdout",
     "output_type": "stream",
     "text": [
      "Năm 2020 là năm nhuận.\n"
     ]
    }
   ],
   "source": [
    "# bai 30\n",
    "def nam():\n",
    "    nam = int(input(\"Nhập số năm :\"))\n",
    "    if nam % 400 :\n",
    "        print(f\"Năm {nam} là năm nhuận.\")\n",
    "    elif nam % 100 :\n",
    "        print(f\"Năm {nam} không là năm nhuận.\")\n",
    "    elif nam % 4 :\n",
    "        print(f\"Năm {nam} là năm nhuận.\")\n",
    "    else:\n",
    "        print(\"Không phải là năm nhuận.\")\n",
    "        return\n",
    "\n",
    "nam()\n",
    "        "
   ]
  },
  {
   "cell_type": "code",
   "execution_count": 22,
   "id": "9d5b7cb7-6a57-42bf-ba67-f6de79b54ec5",
   "metadata": {},
   "outputs": [
    {
     "name": "stdin",
     "output_type": "stream",
     "text": [
      "Nhập tin nhắn cần mã hóa:  sss\n"
     ]
    },
    {
     "name": "stdout",
     "output_type": "stream",
     "text": [
      "Tin nhắn đã mã hóa: vvv\n"
     ]
    }
   ],
   "source": [
    "# bai 31\n",
    "def mat_ma(message, shift=3):\n",
    "    encrypted = \"\"\n",
    "    for char in message:\n",
    "        if char.isupper():\n",
    "            encrypted += chr((ord(char) - 65 + shift) % 26 + 65)\n",
    "        elif char.islower():\n",
    "            encrypted += chr((ord(char) - 97 + shift) % 26 + 97)\n",
    "        else:\n",
    "            encrypted += char\n",
    "    return encrypted\n",
    "\n",
    "message = input(\"Nhập tin nhắn cần mã hóa: \")\n",
    "\n",
    "encrypted_message = mat_ma(message)\n",
    "print(\"Tin nhắn đã mã hóa:\", encrypted_message)          \n",
    "    "
   ]
  },
  {
   "cell_type": "code",
   "execution_count": 30,
   "id": "5320a101-8987-4b6c-b917-4fb44415bbe9",
   "metadata": {
    "scrolled": true
   },
   "outputs": [
    {
     "name": "stdout",
     "output_type": "stream",
     "text": [
      "Chương trình Mã hóa/Giải mã Caesar\n",
      "1: Mã hóa\n",
      "2: Giải mã\n"
     ]
    },
    {
     "name": "stdin",
     "output_type": "stream",
     "text": [
      "Chọn chức năng (1 hoặc 2):  2\n",
      "Nhập số ký tự dịch chuyển (số nguyên dương):  3\n",
      "Nhập tin nhắn:  Khoor, Zruog!\n"
     ]
    },
    {
     "name": "stdout",
     "output_type": "stream",
     "text": [
      "Tin nhắn đã giải mã: Hello, World!\n"
     ]
    }
   ],
   "source": [
    "# bai 32\n",
    "def caesar_cipher(message, shift):\n",
    "    result = \"\"\n",
    "    for char in message:\n",
    "        if char.isupper():\n",
    "            result += chr((ord(char) - 65 + shift) % 26 + 65)\n",
    "        elif char.islower():\n",
    "            result += chr((ord(char) - 97 + shift) % 26 + 97)\n",
    "        else:\n",
    "            result += char\n",
    "    return result\n",
    "\n",
    "# \n",
    "print(\"Chương trình Mã hóa/Giải mã Caesar\")\n",
    "print(\"1: Mã hóa\")\n",
    "print(\"2: Giải mã\")\n",
    "choice = input(\"Chọn chức năng (1 hoặc 2): \")\n",
    "\n",
    "if choice not in ['1', '2']:\n",
    "    print(\"Lựa chọn không hợp lệ.\")\n",
    "else:\n",
    "    shift = int(input(\"Nhập số ký tự dịch chuyển (số nguyên dương): \"))\n",
    "    if choice == '2':\n",
    "        shift = -shift  # Để giải mã, dịch chuyển ngược lại\n",
    "    message = input(\"Nhập tin nhắn: \")\n",
    "    result = caesar_cipher(message, shift)\n",
    "    if choice == '1':\n",
    "        print(\"Tin nhắn đã mã hóa:\", result)\n",
    "    else:\n",
    "        print(\"Tin nhắn đã giải mã:\", result)"
   ]
  },
  {
   "cell_type": "code",
   "execution_count": 2,
   "id": "3cb6f1a6-ca81-40a4-9933-f452a1a98c58",
   "metadata": {},
   "outputs": [
    {
     "name": "stdin",
     "output_type": "stream",
     "text": [
      "Nhập chuỗi để kiểm tra palindrome:  anna\n"
     ]
    },
    {
     "name": "stdout",
     "output_type": "stream",
     "text": [
      "\"anna\" là một palindrome.\n"
     ]
    }
   ],
   "source": [
    "# bai 33\n",
    "def is_pali(s):\n",
    "    s = ''.join(c.lower() for c in s if c.isalnum())\n",
    "    return s == s[::-1]\n",
    "\n",
    "input_str = input(\"Nhập chuỗi để kiểm tra palindrome: \")\n",
    "if is_pali(input_str):\n",
    "    print(f'\"{input_str}\" là một palindrome.')\n",
    "else:\n",
    "    print(f'\"{input_str}\" không phải là palindrome.')"
   ]
  },
  {
   "cell_type": "code",
   "execution_count": 15,
   "id": "295f71d6-11a5-4f3c-98ac-5fcce601875b",
   "metadata": {},
   "outputs": [
    {
     "name": "stdin",
     "output_type": "stream",
     "text": [
      "Nhập số thập phân:  10\n"
     ]
    },
    {
     "name": "stdout",
     "output_type": "stream",
     "text": [
      "Số 10 ở dạng nhị phân là: 1010\n"
     ]
    }
   ],
   "source": [
    "# bai 34\n",
    "def dec(n):\n",
    "    decimal = int(input(\"Nhập số thập phân: \"))\n",
    "    if n == 0:\n",
    "        return \"0\"\n",
    "    binary = \"\"\n",
    "    num = abs(n)  \n",
    "    while num > 0:\n",
    "        binary = str(num % 2) + binary\n",
    "        num //= 2\n",
    "    return binary if n >= 0 else \"-\" + binary\n",
    "\n",
    "\n",
    "print(f\"Số {decimal} ở dạng nhị phân là: {dec(decimal)}\")\n"
   ]
  },
  {
   "cell_type": "code",
   "execution_count": 18,
   "id": "3546033b-0994-47fb-adef-1eff3619ddfe",
   "metadata": {},
   "outputs": [
    {
     "name": "stdin",
     "output_type": "stream",
     "text": [
      "Nhập các số (được cách nhau bởi dấu phẩy):  1,2,3,4,5,6,7,8,9\n"
     ]
    },
    {
     "name": "stdout",
     "output_type": "stream",
     "text": [
      "Danh sách các số lẻ: 1, 3, 5, 7, 9\n"
     ]
    }
   ],
   "source": [
    "# bai 35\n",
    "numbers = input(\"Nhập các số (được cách nhau bởi dấu phẩy): \")\n",
    "num_list = [int(x) for x in numbers.split(\",\")]\n",
    "odd_numbers = [x for x in num_list if x % 2 != 0]\n",
    "print(f\"Danh sách các số lẻ: {', '.join(map(str, odd_numbers))}\")"
   ]
  },
  {
   "cell_type": "code",
   "execution_count": 20,
   "id": "28525636-e63f-4229-81c2-c7e07fe94681",
   "metadata": {},
   "outputs": [
    {
     "name": "stdin",
     "output_type": "stream",
     "text": [
      "Nhập số nguyên (nhập 0 để dừng):  1\n",
      "Nhập số nguyên (nhập 0 để dừng):  2\n",
      "Nhập số nguyên (nhập 0 để dừng):  0\n"
     ]
    },
    {
     "name": "stdout",
     "output_type": "stream",
     "text": [
      "Danh sách số đã sắp xếp:\n",
      "1\n",
      "2\n"
     ]
    }
   ],
   "source": [
    "# bai 36\n",
    "numbers = []\n",
    "while True:\n",
    "    num = int(input(\"Nhập số nguyên (nhập 0 để dừng): \"))\n",
    "    if num == 0:\n",
    "        break\n",
    "    numbers.append(num)\n",
    "    \n",
    "numbers.sort()\n",
    "print(\"Danh sách số đã sắp xếp:\")\n",
    "for num in numbers:\n",
    "    print(num)"
   ]
  },
  {
   "cell_type": "code",
   "execution_count": 21,
   "id": "ed7d45f2-196a-45e5-a7a6-d2af8a2928a2",
   "metadata": {},
   "outputs": [
    {
     "name": "stdin",
     "output_type": "stream",
     "text": [
      "Nhập một từ (nhấn Enter để dừng):  first\n",
      "Nhập một từ (nhấn Enter để dừng):  second\n",
      "Nhập một từ (nhấn Enter để dừng):  first\n",
      "Nhập một từ (nhấn Enter để dừng):  third\n",
      "Nhập một từ (nhấn Enter để dừng):  second\n",
      "Nhập một từ (nhấn Enter để dừng):  \n"
     ]
    },
    {
     "name": "stdout",
     "output_type": "stream",
     "text": [
      "Các từ duy nhất theo thứ tự nhập:\n",
      "first\n",
      "second\n",
      "third\n"
     ]
    }
   ],
   "source": [
    "# bai 37\n",
    "words = []\n",
    "while True:\n",
    "    word = input(\"Nhập một từ (nhấn Enter để dừng): \")\n",
    "    if word == \"\":\n",
    "        break\n",
    "    if word not in words:\n",
    "        words.append(word)\n",
    "\n",
    "print(\"Các từ duy nhất theo thứ tự nhập:\")\n",
    "for word in words:\n",
    "    print(word)"
   ]
  },
  {
   "cell_type": "code",
   "execution_count": 31,
   "id": "12f4d4f5-59c7-48f6-8c0c-47dd2f8854a7",
   "metadata": {},
   "outputs": [
    {
     "name": "stdin",
     "output_type": "stream",
     "text": [
      "Nhập các số nguyên (cách nhau bởi dấu phẩy):  1,2,3,-1,-2,0\n"
     ]
    },
    {
     "name": "stdout",
     "output_type": "stream",
     "text": [
      "Các số theo thứ tự: âm, không, dương: -1, -2, 0, 1, 2, 3\n"
     ]
    }
   ],
   "source": [
    "# bai 38\n",
    "nega = []\n",
    "zero = []\n",
    "posi = []\n",
    "user_input = input(\"Nhập các số nguyên (cách nhau bởi dấu phẩy): \")\n",
    "numbers = [int(x) for x in user_input.split(\",\")]\n",
    "for number in numbers:\n",
    "    if number < 0:\n",
    "        nega.append(number)\n",
    "    elif number == 0:\n",
    "        zero.append(number)\n",
    "    else:\n",
    "        posi.append(number)\n",
    "\n",
    "result = nega + zero + posi\n",
    "print(\"Các số theo thứ tự: âm, không, dương:\", \", \".join(map(str, result)))"
   ]
  },
  {
   "cell_type": "code",
   "execution_count": 32,
   "id": "993bdb0b-cf52-45a0-99fa-d31f8694cc32",
   "metadata": {},
   "outputs": [
    {
     "name": "stdin",
     "output_type": "stream",
     "text": [
      "Nhập số nguyên n:  8\n"
     ]
    },
    {
     "name": "stdout",
     "output_type": "stream",
     "text": [
      "Dictionary chứa các cặp : {1: 1, 2: 4, 3: 9, 4: 16, 5: 25, 6: 36, 7: 49, 8: 64}\n"
     ]
    }
   ],
   "source": [
    "# bai 39\n",
    "n = int(input(\"Nhập số nguyên n: \"))\n",
    "dict = {i: i*i for i in range(1, n + 1)}\n",
    "print(\"Dictionary chứa các cặp :\", dict)"
   ]
  },
  {
   "cell_type": "code",
   "execution_count": 33,
   "id": "e70750dd-188a-4551-aaa3-b8a6615358a4",
   "metadata": {},
   "outputs": [
    {
     "name": "stdout",
     "output_type": "stream",
     "text": [
      "Nửa đầu của tuple: 1, 2, 3, 4, 5\n",
      "Nửa cuối của tuple: 6, 7, 8, 9, 10\n"
     ]
    }
   ],
   "source": [
    "# bai 40\n",
    "num = (1, 2, 3, 4, 5, 6, 7, 8, 9, 10)\n",
    "mid = len(num) // 2\n",
    "first = num[:mid]\n",
    "second = num[mid:]\n",
    "print(\"Nửa đầu của tuple:\", \", \".join(map(str, first)))\n",
    "print(\"Nửa cuối của tuple:\", \", \".join(map(str, second)))"
   ]
  },
  {
   "cell_type": "code",
   "execution_count": 34,
   "id": "15b423d1-109b-4d9b-8d71-9d8a18e6e4e5",
   "metadata": {},
   "outputs": [
    {
     "name": "stdout",
     "output_type": "stream",
     "text": [
      "Tuple chứa các số chẵn: (2, 4, 6, 8, 10)\n"
     ]
    }
   ],
   "source": [
    "# bai 41\n",
    "origin = (1, 2, 3, 4, 5, 6, 7, 8, 9, 10)\n",
    "even = tuple(x for x in origin if x % 2 == 0)\n",
    "print(\"Tuple chứa các số chẵn:\", even)"
   ]
  },
  {
   "cell_type": "code",
   "execution_count": 37,
   "id": "574adafd-afce-4f63-9f8e-268372bd8fc3",
   "metadata": {},
   "outputs": [
    {
     "name": "stdin",
     "output_type": "stream",
     "text": [
      "Nhập số nguyên để tính giai thừa:  3\n"
     ]
    },
    {
     "name": "stdout",
     "output_type": "stream",
     "text": [
      "Giai thừa của là: 6\n"
     ]
    }
   ],
   "source": [
    "# bai 42\n",
    "def factor(n):\n",
    "    n = int(input(\"Nhập số nguyên để tính giai thừa: \"))\n",
    "    if n == 0 or n == 1:\n",
    "        return 1\n",
    "    result = 1\n",
    "    for i in range(2, n + 1):\n",
    "        result *= i\n",
    "    return result\n",
    "\n",
    "print(\"Giai thừa của là:\", factor(n))"
   ]
  },
  {
   "cell_type": "code",
   "execution_count": 42,
   "id": "d295e8e6-1377-4f9d-8d26-f1b7e08ad92c",
   "metadata": {},
   "outputs": [
    {
     "name": "stdin",
     "output_type": "stream",
     "text": [
      "Nhập chuỗi thứ nhất:  hi xin chao\n",
      "Nhập chuỗi thứ hai:  chao qq\n"
     ]
    },
    {
     "name": "stdout",
     "output_type": "stream",
     "text": [
      "Kết quả:\n",
      "hi xin chao\n"
     ]
    }
   ],
   "source": [
    "# bai 43\n",
    "def printlon(str1, str2):\n",
    "    len1 = len(str1)\n",
    "    len2 = len(str2)\n",
    "    if len1 > len2:\n",
    "        print(str1)\n",
    "    elif len2 > len1:\n",
    "        print(str2)\n",
    "    else:\n",
    "        print(str1)\n",
    "        print(str2)    \n",
    "        \n",
    "str1 = input(\"Nhập chuỗi thứ nhất: \")\n",
    "str2 = input(\"Nhập chuỗi thứ hai: \")\n",
    "print(\"Kết quả:\")\n",
    "printlon(str1, str2)"
   ]
  },
  {
   "cell_type": "code",
   "execution_count": 43,
   "id": "44acd4d7-86a8-431a-b738-45b6a1075f42",
   "metadata": {},
   "outputs": [
    {
     "name": "stdout",
     "output_type": "stream",
     "text": [
      "Danh sách bình phương từ 1 đến 20: [1, 4, 9, 16, 25, 36, 49, 64, 81, 100, 121, 144, 169, 196, 225, 256, 289, 324, 361, 400]\n"
     ]
    }
   ],
   "source": [
    "# bai 44\n",
    "def square_list():\n",
    "    squares = []\n",
    "    for i in range(1, 21):\n",
    "        squares.append(i ** 2)\n",
    "    print(\"Danh sách bình phương từ 1 đến 20:\", squares)\n",
    "\n",
    "square_list()"
   ]
  },
  {
   "cell_type": "code",
   "execution_count": 45,
   "id": "0ca617eb-65b2-4a4e-ae76-6655bca1d86d",
   "metadata": {},
   "outputs": [
    {
     "name": "stdout",
     "output_type": "stream",
     "text": [
      "Năm phần tử đầu tiên của danh sách bình phương: [1, 4, 9, 16, 25]\n"
     ]
    }
   ],
   "source": [
    "# bai 45\n",
    "def squares():\n",
    "    squares = []\n",
    "    for i in range(1, 21):\n",
    "        squares.append(i ** 2)\n",
    "    print(\"Năm phần tử đầu tiên của danh sách bình phương:\", squares[0:5])\n",
    "\n",
    "squares()"
   ]
  },
  {
   "cell_type": "code",
   "execution_count": 48,
   "id": "318d390b-e411-4d1b-951a-fa55d12b6344",
   "metadata": {},
   "outputs": [
    {
     "name": "stdout",
     "output_type": "stream",
     "text": [
      "Năm phần tử cuối của danh sách bình phương: [256, 289, 324, 361, 400]\n"
     ]
    }
   ],
   "source": [
    "# bai 46\n",
    "def squares():\n",
    "    squares = [i ** 2 for i in range(1, 21)]\n",
    "    print(\"Năm phần tử cuối của danh sách bình phương:\", squares[-5:])\n",
    "\n",
    "squares()"
   ]
  },
  {
   "cell_type": "code",
   "execution_count": 49,
   "id": "c6f8f1ca-e146-420b-9ba3-8a291f23f635",
   "metadata": {},
   "outputs": [
    {
     "name": "stdout",
     "output_type": "stream",
     "text": [
      "Danh sách bình phương trừ 5 phần tử đầu: [36, 49, 64, 81, 100, 121, 144, 169, 196, 225, 256, 289, 324, 361, 400]\n"
     ]
    }
   ],
   "source": [
    "# bai 47\n",
    "def squares():\n",
    "    squares = [i ** 2 for i in range(1, 21)]\n",
    "    print(\"Danh sách bình phương trừ 5 phần tử đầu:\", squares[5:])\n",
    "\n",
    "squares()"
   ]
  },
  {
   "cell_type": "code",
   "execution_count": 50,
   "id": "5f2952aa-f193-49da-a8ea-f4b533eec1d4",
   "metadata": {},
   "outputs": [
    {
     "name": "stdin",
     "output_type": "stream",
     "text": [
      "Nhập số thứ nhất:  5\n",
      "Nhập số thứ hai:  6\n",
      "Nhập số thứ ba:  8\n"
     ]
    },
    {
     "name": "stdout",
     "output_type": "stream",
     "text": [
      "Giá trị trung bình: 6.333333333333333\n"
     ]
    }
   ],
   "source": [
    "# bai 48\n",
    "def average(a, b, c):\n",
    "    return (a + b + c) / 3\n",
    "\n",
    "# Chương trình chính\n",
    "num1 = float(input(\"Nhập số thứ nhất: \"))\n",
    "num2 = float(input(\"Nhập số thứ hai: \"))\n",
    "num3 = float(input(\"Nhập số thứ ba: \"))\n",
    "print(\"Giá trị trung bình:\", average(num1, num2, num3))"
   ]
  },
  {
   "cell_type": "code",
   "execution_count": 51,
   "id": "20048efd-889c-4f51-b49b-0531db0552ea",
   "metadata": {},
   "outputs": [
    {
     "name": "stdin",
     "output_type": "stream",
     "text": [
      "Nhập số nguyên để kiểm tra:  3\n"
     ]
    },
    {
     "name": "stdout",
     "output_type": "stream",
     "text": [
      "3 là số nguyên tố.\n"
     ]
    }
   ],
   "source": [
    "# bai 49\n",
    "def prime(n):\n",
    "    if n < 2:\n",
    "        return False\n",
    "    for i in range(2, int(n ** 0.5) + 1):\n",
    "        if n % i == 0:\n",
    "            return False\n",
    "    return True\n",
    "\n",
    "num = int(input(\"Nhập số nguyên để kiểm tra: \"))\n",
    "if prime(num):\n",
    "    print(f\"{num} là số nguyên tố.\")\n",
    "else:\n",
    "    print(f\"{num} không phải là số nguyên tố.\")"
   ]
  },
  {
   "cell_type": "code",
   "execution_count": 57,
   "id": "64821b1f-90cf-4c3f-9370-4165872d1048",
   "metadata": {},
   "outputs": [
    {
     "name": "stdout",
     "output_type": "stream",
     "text": [
      "Mật khẩu ngẫu nhiên: jSA>.[jv>\n"
     ]
    }
   ],
   "source": [
    "import random\n",
    "\n",
    "# bai 50\n",
    "def password():\n",
    "    length = random.randint(7, 10)  # Chọn độ dài ngẫu nhiên từ 7 đến 10\n",
    "    password = \"\"\n",
    "    for _ in range(length):\n",
    "        password += chr(random.randint(33, 126))  # Chọn ký tự ngẫu nhiên từ ASCII 33-126\n",
    "    return password\n",
    "\n",
    "print(\"Mật khẩu ngẫu nhiên:\", password())"
   ]
  },
  {
   "cell_type": "code",
   "execution_count": null,
   "id": "13c30dcb-188d-42b8-becd-aef8a35520d8",
   "metadata": {},
   "outputs": [],
   "source": []
  },
  {
   "cell_type": "code",
   "execution_count": null,
   "id": "c4c0ded3-c96a-4872-961d-b32287b836b8",
   "metadata": {},
   "outputs": [],
   "source": []
  }
 ],
 "metadata": {
  "kernelspec": {
   "display_name": "Python [conda env:base] *",
   "language": "python",
   "name": "conda-base-py"
  },
  "language_info": {
   "codemirror_mode": {
    "name": "ipython",
    "version": 3
   },
   "file_extension": ".py",
   "mimetype": "text/x-python",
   "name": "python",
   "nbconvert_exporter": "python",
   "pygments_lexer": "ipython3",
   "version": "3.13.5"
  }
 },
 "nbformat": 4,
 "nbformat_minor": 5
}
